{
 "cells": [
  {
   "cell_type": "code",
   "execution_count": 2,
   "metadata": {},
   "outputs": [],
   "source": [
    "import pandas as pd\n",
    "from yahoofinancials import YahooFinancials\n",
    "yahoo_financials = YahooFinancials('BTC-USD')\n",
    "data = yahoo_financials.get_historical_price_data(start_date='2022-01-01', \n",
    "                                                  end_date='2022-12-31', \n",
    "                                                  time_interval='daily')\n",
    "btc_df = pd.DataFrame(data['BTC-USD']['prices'])\n",
    "#btc_df.rename(columns={'formatted_date': 'Date'},inplace = True)\n",
    "btc_df = btc_df.drop('date', axis=1).set_index('formatted_date')\n",
    "btc_df.to_csv('./data/btc.csv',encoding='utf8')"
   ]
  }
 ],
 "metadata": {
  "kernelspec": {
   "display_name": "Python 3.9.12 ('base')",
   "language": "python",
   "name": "python3"
  },
  "language_info": {
   "codemirror_mode": {
    "name": "ipython",
    "version": 3
   },
   "file_extension": ".py",
   "mimetype": "text/x-python",
   "name": "python",
   "nbconvert_exporter": "python",
   "pygments_lexer": "ipython3",
   "version": "3.9.12"
  },
  "orig_nbformat": 4,
  "vscode": {
   "interpreter": {
    "hash": "89c39a72187b3fa6cc17a74763d72fa26a4fa6bc2bb746ac1d886355e3c795f3"
   }
  }
 },
 "nbformat": 4,
 "nbformat_minor": 2
}
